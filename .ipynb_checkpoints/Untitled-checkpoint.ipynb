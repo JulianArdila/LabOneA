{
 "cells": [
  {
   "cell_type": "markdown",
   "metadata": {},
   "source": [
    "# Laboratorio 1\n",
    "\n",
    "## Dependencias"
   ]
  },
  {
   "cell_type": "code",
   "execution_count": 61,
   "metadata": {},
   "outputs": [
    {
     "name": "stdout",
     "output_type": "stream",
     "text": [
      "Requirement already satisfied: pandas in d:\\documents\\u\\6to semestre\\acustica ambiental\\lab1a\\env\\lib\\site-packages (1.1.0)\n",
      "Requirement already satisfied: python-dateutil>=2.7.3 in d:\\documents\\u\\6to semestre\\acustica ambiental\\lab1a\\env\\lib\\site-packages (from pandas) (2.8.1)\n",
      "Requirement already satisfied: numpy>=1.15.4 in d:\\documents\\u\\6to semestre\\acustica ambiental\\lab1a\\env\\lib\\site-packages (from pandas) (1.19.1)\n",
      "Requirement already satisfied: pytz>=2017.2 in d:\\documents\\u\\6to semestre\\acustica ambiental\\lab1a\\env\\lib\\site-packages (from pandas) (2020.1)\n",
      "Requirement already satisfied: six>=1.5 in d:\\documents\\u\\6to semestre\\acustica ambiental\\lab1a\\env\\lib\\site-packages (from python-dateutil>=2.7.3->pandas) (1.15.0)\n"
     ]
    },
    {
     "name": "stderr",
     "output_type": "stream",
     "text": [
      "WARNING: You are using pip version 19.2.3, however version 20.2.2 is available.\n",
      "You should consider upgrading via the 'python -m pip install --upgrade pip' command.\n"
     ]
    },
    {
     "name": "stdout",
     "output_type": "stream",
     "text": [
      "Requirement already satisfied: matplotlib in d:\\documents\\u\\6to semestre\\acustica ambiental\\lab1a\\env\\lib\\site-packages (3.3.1)"
     ]
    },
    {
     "name": "stderr",
     "output_type": "stream",
     "text": [
      "WARNING: You are using pip version 19.2.3, however version 20.2.2 is available.\n",
      "You should consider upgrading via the 'python -m pip install --upgrade pip' command.\n"
     ]
    },
    {
     "name": "stdout",
     "output_type": "stream",
     "text": [
      "\n",
      "Requirement already satisfied: numpy>=1.15 in d:\\documents\\u\\6to semestre\\acustica ambiental\\lab1a\\env\\lib\\site-packages (from matplotlib) (1.19.1)\n",
      "Requirement already satisfied: python-dateutil>=2.1 in d:\\documents\\u\\6to semestre\\acustica ambiental\\lab1a\\env\\lib\\site-packages (from matplotlib) (2.8.1)\n",
      "Requirement already satisfied: pillow>=6.2.0 in d:\\documents\\u\\6to semestre\\acustica ambiental\\lab1a\\env\\lib\\site-packages (from matplotlib) (7.2.0)\n",
      "Requirement already satisfied: kiwisolver>=1.0.1 in d:\\documents\\u\\6to semestre\\acustica ambiental\\lab1a\\env\\lib\\site-packages (from matplotlib) (1.2.0)\n",
      "Requirement already satisfied: pyparsing!=2.0.4,!=2.1.2,!=2.1.6,>=2.0.3 in d:\\documents\\u\\6to semestre\\acustica ambiental\\lab1a\\env\\lib\\site-packages (from matplotlib) (2.4.7)\n",
      "Requirement already satisfied: certifi>=2020.06.20 in d:\\documents\\u\\6to semestre\\acustica ambiental\\lab1a\\env\\lib\\site-packages (from matplotlib) (2020.6.20)\n",
      "Requirement already satisfied: cycler>=0.10 in d:\\documents\\u\\6to semestre\\acustica ambiental\\lab1a\\env\\lib\\site-packages (from matplotlib) (0.10.0)\n",
      "Requirement already satisfied: six>=1.5 in d:\\documents\\u\\6to semestre\\acustica ambiental\\lab1a\\env\\lib\\site-packages (from python-dateutil>=2.1->matplotlib) (1.15.0)\n"
     ]
    }
   ],
   "source": [
    "!pip install matplotlib"
   ]
  },
  {
   "cell_type": "code",
   "execution_count": 67,
   "metadata": {},
   "outputs": [
    {
     "name": "stdout",
     "output_type": "stream",
     "text": [
      "Collecting pandas\n",
      "  Using cached https://files.pythonhosted.org/packages/f1/e1/56bf2e1b92ce1361169aff7ba0316d211339cc8e2737f5f2e7a5930c9574/pandas-1.1.0-cp38-cp38-win_amd64.whl\n",
      "Requirement already satisfied: pytz>=2017.2 in c:\\python38\\lib\\site-packages (from pandas) (2019.3)\n",
      "Requirement already satisfied: numpy>=1.15.4 in c:\\python38\\lib\\site-packages (from pandas) (1.19.1)\n",
      "Requirement already satisfied: python-dateutil>=2.7.3 in c:\\users\\julian\\appdata\\roaming\\python\\python38\\site-packages (from pandas) (2.8.1)\n",
      "Requirement already satisfied: six>=1.5 in c:\\users\\julian\\appdata\\roaming\\python\\python38\\site-packages (from python-dateutil>=2.7.3->pandas) (1.15.0)\n",
      "Installing collected packages: pandas\n",
      "Successfully installed pandas-1.1.0\n"
     ]
    },
    {
     "name": "stderr",
     "output_type": "stream",
     "text": [
      "WARNING: You are using pip version 19.2.3, however version 20.2.2 is available.\n",
      "You should consider upgrading via the 'python -m pip install --upgrade pip' command.\n"
     ]
    }
   ],
   "source": [
    "import sys  \n",
    "!{sys.executable} -m pip install pandas\n"
   ]
  },
  {
   "cell_type": "code",
   "execution_count": 14,
   "metadata": {},
   "outputs": [],
   "source": [
    "import matplotlib.pyplot as plt\n",
    "import numpy as np\n",
    "import json\n",
    "import math\n",
    "import pandas\n",
    "from IPython.display import display, Markdown, Latex\n"
   ]
  },
  {
   "cell_type": "markdown",
   "metadata": {},
   "source": [
    "## Acciones"
   ]
  },
  {
   "cell_type": "code",
   "execution_count": 41,
   "metadata": {},
   "outputs": [],
   "source": [
    "def media(data):\n",
    "    return sum(data)/len(data)\n",
    "\n",
    "def moda(data):\n",
    "    cont = {}\n",
    "    aux = 0\n",
    "    for n in data:\n",
    "        if str(n) in cont:\n",
    "            cont[str(n)] += 1\n",
    "        else:\n",
    "            cont[str(n)] = 0\n",
    "        if cont[str(n)] > aux:\n",
    "            aux = cont[str(n)]\n",
    "    result = [ float(key) for key, value in cont.items() if value >= aux]\n",
    "    return sum(result)/len(result)\n",
    "\n",
    "def mediana(data):\n",
    "    data.sort()\n",
    "    N = len(data)\n",
    "    aux = N/2\n",
    "    print(data)\n",
    "    if N%2 == 0:\n",
    "        return data[int(aux)]\n",
    "    else:\n",
    "        print(int(aux))\n",
    "        return (sum(data[int(aux):int(aux+1)]))/2"
   ]
  },
  {
   "cell_type": "markdown",
   "metadata": {},
   "source": [
    "## Importación de los datos y procesamiento\n",
    "\n",
    "Se creo un JSON con el cual se realizara los debidos porcesos para el siguienete paso al crear las tablas."
   ]
  },
  {
   "cell_type": "code",
   "execution_count": 4,
   "metadata": {},
   "outputs": [],
   "source": [
    "data = json.load(open('data.json'))\n",
    "x = []\n",
    "dB_Lin = []\n",
    "dBA = []\n",
    "dBC = []\n",
    "for n in data:\n",
    "    x.append(float(n['time']))\n",
    "    dB_Lin.append(float(n['dB Lin']))\n",
    "    dBA.append(float(n['dBA']))\n",
    "    dBC.append(float(n['dBC']))"
   ]
  },
  {
   "cell_type": "code",
   "execution_count": 5,
   "metadata": {},
   "outputs": [
    {
     "data": {
      "text/markdown": [
       "### Tabla de Datos en el JSON"
      ],
      "text/plain": [
       "<IPython.core.display.Markdown object>"
      ]
     },
     "metadata": {},
     "output_type": "display_data"
    },
    {
     "name": "stdout",
     "output_type": "stream",
     "text": [
      "   time dB Lin   dBA   dBC\n",
      "0     1   56.9  49.6  56.2\n",
      "1     2   56.2  48.2  55.2\n",
      "2     3   56.1  46.3  55.1\n",
      "3     4   58.4  52.5  57.8\n",
      "4     5   56.6  48.2  55.9\n",
      "5     6     55  44.9    54\n",
      "6     7   55.4    46  54.3\n",
      "7     8   56.5  46.8  55.3\n",
      "8     9   69.2  63.1  68.3\n",
      "9    10   56.8  47.4  55.8\n",
      "10   11   65.8  62.3  64.7\n",
      "11   12   64.8  59.8  63.8\n",
      "12   13   56.6    47  55.7\n",
      "13   14   64.7  58.3  63.5\n",
      "14   15   62.7  54.1  61.6\n",
      "15   16   62.7    56  61.5\n",
      "16   17     59  50.3  58.1\n",
      "17   18   58.4  49.7  57.6\n",
      "18   19   57.5  49.5  56.7\n",
      "19   20   58.3  50.3  57.5\n",
      "20   21   56.2  47.8  55.3\n",
      "21   22   55.4  47.9  54.4\n",
      "22   23   54.9    47  53.8\n",
      "23   24   56.9  48.1    56\n",
      "24   25   56.7  47.3  55.4\n",
      "25   26   57.9  47.7  55.7\n",
      "26   27   55.9  47.6  54.9\n",
      "27   28   56.8  50.1  55.7\n",
      "28   29   56.4  49.6  55.6\n",
      "29   30   56.1  48.5  55.1\n"
     ]
    }
   ],
   "source": [
    "display(Markdown('### Tabla de Datos en el JSON'))\n",
    "print(pandas.json_normalize(data))"
   ]
  },
  {
   "cell_type": "code",
   "execution_count": 6,
   "metadata": {},
   "outputs": [
    {
     "data": {
      "image/png": "[encoded data removed]",
      "text/plain": [
       "<Figure size 432x288 with 1 Axes>"
      ]
     },
     "metadata": {
      "needs_background": "light"
     },
     "output_type": "display_data"
    }
   ],
   "source": [
    "plt.plot(x, dB_Lin, 'k--', label='dB Lin')\n",
    "plt.plot(x, dBA, label=\"dBA\")\n",
    "plt.plot(x, dBC, label=\"dBC\")\n",
    "plt.grid(axis='x', color='0.95')\n",
    "plt.legend(title='Items:')\n",
    "\n",
    "plt.show()"
   ]
  },
  {
   "cell_type": "markdown",
   "metadata": {},
   "source": [
    "## Ecuación nivel continuo equivalente\n",
    "$$\n",
    "\\mathtt{L}_{eq} =10 \\log({\\frac{1}{\\mathtt{T}} \\sum_{i=0}^\\infty \\mathtt{t}_i 10^{\\frac{\\mathtt{L}_{pi}}{10}}}) \\\\\\ \n",
    "$$"
   ]
  },
  {
   "cell_type": "code",
   "execution_count": 9,
   "metadata": {
    "scrolled": true
   },
   "outputs": [
    {
     "data": {
      "text/markdown": [
       "$$ \\mathtt{L}_{eq} =10 \\log({\\frac{1}{\\mathtt{T}} \\sum_{i=0}^\\infty \\mathtt{t}_i 10^{\\frac{\\mathtt{L}_{pi}}{10}}}) = {71.66434146517419} $$"
      ],
      "text/plain": [
       "<IPython.core.display.Markdown object>"
      ]
     },
     "metadata": {},
     "output_type": "display_data"
    }
   ],
   "source": [
    "Leq = 10 * math.log(sum([ float(i['time'])*pow(10,float(i['dB Lin'])/10) for i in data])/max(x),10)\n",
    "display(Markdown('$$ \\\\mathtt{L}_{eq} =10 \\\\log({\\\\frac{1}{\\\\mathtt{T}} \\\\sum_{i=0}^\\\\infty \\\\mathtt{t}_i 10^{\\\\frac{\\\\mathtt{L}_{pi}}{10}}}) = {'+str(Leq)+ '} $$'))"
   ]
  },
  {
   "cell_type": "code",
   "execution_count": 10,
   "metadata": {},
   "outputs": [
    {
     "data": {
      "text/markdown": [
       "$$ \\mathtt{L}_{eqA} =10 \\log({\\frac{1}{\\mathtt{T}} \\sum_{i=0}^\\infty \\mathtt{t}_i 10^{\\frac{\\mathtt{L}_{pi}}{10}}}) = {65.06824871254379} $$"
      ],
      "text/plain": [
       "<IPython.core.display.Markdown object>"
      ]
     },
     "metadata": {},
     "output_type": "display_data"
    }
   ],
   "source": [
    "LeqA = 10 * math.log(sum([ float(i['time'])*pow(10,float(i['dBA'])/10) for i in data])/max(x),10)\n",
    "display(Markdown('$$ \\\\mathtt{L}_{eqA} =10 \\\\log({\\\\frac{1}{\\\\mathtt{T}} \\\\sum_{i=0}^\\\\infty \\\\mathtt{t}_i 10^{\\\\frac{\\\\mathtt{L}_{pi}}{10}}}) = {'+str(LeqA)+ '} $$'))"
   ]
  },
  {
   "cell_type": "code",
   "execution_count": 11,
   "metadata": {},
   "outputs": [
    {
     "data": {
      "text/markdown": [
       "$$ \\mathtt{L}_{eqC} =10 \\log({\\frac{1}{\\mathtt{T}} \\sum_{i=0}^\\infty \\mathtt{t}_i 10^{\\frac{\\mathtt{L}_{pi}}{10}}}) = {70.61813227660642} $$"
      ],
      "text/plain": [
       "<IPython.core.display.Markdown object>"
      ]
     },
     "metadata": {},
     "output_type": "display_data"
    }
   ],
   "source": [
    "LeqC = 10 * math.log(sum([ float(i['time'])*pow(10,float(i['dBC'])/10) for i in data])/max(x),10)\n",
    "display(Markdown('$$ \\\\mathtt{L}_{eqC} =10 \\\\log({\\\\frac{1}{\\\\mathtt{T}} \\\\sum_{i=0}^\\\\infty \\\\mathtt{t}_i 10^{\\\\frac{\\\\mathtt{L}_{pi}}{10}}}) = {'+str(LeqC)+ '} $$'))"
   ]
  },
  {
   "cell_type": "markdown",
   "metadata": {},
   "source": [
    "## Media, Moda y Mediana"
   ]
  },
  {
   "cell_type": "code",
   "execution_count": 42,
   "metadata": {
    "scrolled": true
   },
   "outputs": [
    {
     "data": {
      "text/markdown": [
       "### dB Lineal "
      ],
      "text/plain": [
       "<IPython.core.display.Markdown object>"
      ]
     },
     "metadata": {},
     "output_type": "display_data"
    },
    {
     "data": {
      "text/markdown": [
       "Media :58.360000000000014"
      ],
      "text/plain": [
       "<IPython.core.display.Markdown object>"
      ]
     },
     "metadata": {},
     "output_type": "display_data"
    },
    {
     "data": {
      "text/markdown": [
       "Moda :57.38749999999999"
      ],
      "text/plain": [
       "<IPython.core.display.Markdown object>"
      ]
     },
     "metadata": {},
     "output_type": "display_data"
    },
    {
     "name": "stdout",
     "output_type": "stream",
     "text": [
      "[54.9, 55.0, 55.4, 55.4, 55.9, 56.1, 56.1, 56.2, 56.2, 56.4, 56.5, 56.6, 56.6, 56.7, 56.8, 56.8, 56.9, 56.9, 57.5, 57.9, 58.3, 58.4, 58.4, 59.0, 62.7, 62.7, 64.7, 64.8, 65.8, 69.2]\n"
     ]
    },
    {
     "data": {
      "text/markdown": [
       "Mediana :28.4"
      ],
      "text/plain": [
       "<IPython.core.display.Markdown object>"
      ]
     },
     "metadata": {},
     "output_type": "display_data"
    }
   ],
   "source": [
    "display(Markdown('### dB Lineal '))\n",
    "display(Markdown('Media :'+str(media(dB_Lin))))\n",
    "display(Markdown('Moda :'+str(moda(dB_Lin))))\n",
    "display(Markdown('Mediana :'+str(mediana(dB_Lin))))"
   ]
  },
  {
   "cell_type": "code",
   "execution_count": 39,
   "metadata": {
    "scrolled": true
   },
   "outputs": [
    {
     "data": {
      "text/markdown": [
       "### dBA Lineal "
      ],
      "text/plain": [
       "<IPython.core.display.Markdown object>"
      ]
     },
     "metadata": {},
     "output_type": "display_data"
    },
    {
     "data": {
      "text/markdown": [
       "Media :50.396666666666654"
      ],
      "text/plain": [
       "<IPython.core.display.Markdown object>"
      ]
     },
     "metadata": {},
     "output_type": "display_data"
    },
    {
     "data": {
      "text/markdown": [
       "Moda :48.775000000000006"
      ],
      "text/plain": [
       "<IPython.core.display.Markdown object>"
      ]
     },
     "metadata": {},
     "output_type": "display_data"
    },
    {
     "name": "stdout",
     "output_type": "stream",
     "text": [
      "30 15.0\n"
     ]
    },
    {
     "data": {
      "text/markdown": [
       "Mediana :24.25"
      ],
      "text/plain": [
       "<IPython.core.display.Markdown object>"
      ]
     },
     "metadata": {},
     "output_type": "display_data"
    }
   ],
   "source": [
    "display(Markdown('### dBA Lineal '))\n",
    "display(Markdown('Media :'+str(media(dBA))))\n",
    "display(Markdown('Moda :'+str(moda(dBA))))\n",
    "display(Markdown('Mediana :'+str(mediana(dBA))))"
   ]
  },
  {
   "cell_type": "code",
   "execution_count": 40,
   "metadata": {
    "scrolled": true
   },
   "outputs": [
    {
     "data": {
      "text/markdown": [
       "### dBC Lineal "
      ],
      "text/plain": [
       "<IPython.core.display.Markdown object>"
      ]
     },
     "metadata": {},
     "output_type": "display_data"
    },
    {
     "data": {
      "text/markdown": [
       "Media :57.35000000000001"
      ],
      "text/plain": [
       "<IPython.core.display.Markdown object>"
      ]
     },
     "metadata": {},
     "output_type": "display_data"
    },
    {
     "data": {
      "text/markdown": [
       "Moda :55.7"
      ],
      "text/plain": [
       "<IPython.core.display.Markdown object>"
      ]
     },
     "metadata": {},
     "output_type": "display_data"
    },
    {
     "name": "stdout",
     "output_type": "stream",
     "text": [
      "30 15.0\n"
     ]
    },
    {
     "data": {
      "text/markdown": [
       "Mediana :27.9"
      ],
      "text/plain": [
       "<IPython.core.display.Markdown object>"
      ]
     },
     "metadata": {},
     "output_type": "display_data"
    }
   ],
   "source": [
    "display(Markdown('### dBC Lineal '))\n",
    "display(Markdown('Media :'+str(media(dBC))))\n",
    "display(Markdown('Moda :'+str(moda(dBC))))\n",
    "display(Markdown('Mediana :'+str(mediana(dBC))))"
   ]
  },
  {
   "cell_type": "code",
   "execution_count": null,
   "metadata": {},
   "outputs": [],
   "source": []
  }
 ],
 "metadata": {
  "kernelspec": {
   "display_name": "Python 3",
   "language": "python",
   "name": "python3"
  },
  "language_info": {
   "codemirror_mode": {
    "name": "ipython",
    "version": 3
   },
   "file_extension": ".py",
   "mimetype": "text/x-python",
   "name": "python",
   "nbconvert_exporter": "python",
   "pygments_lexer": "ipython3",
   "version": "3.8.3"
  }
 },
 "nbformat": 4,
 "nbformat_minor": 4
}
